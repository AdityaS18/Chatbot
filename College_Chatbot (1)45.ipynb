{
  "cells": [
    {
      "cell_type": "code",
      "execution_count": 1,
      "id": "4d86034f",
      "metadata": {
        "id": "4d86034f"
      },
      "outputs": [],
      "source": [
        "import nltk   #cell-1\n",
        "import random\n",
        "import json\n",
        "from nltk.corpus import wordnet\n",
        "from sklearn.model_selection import train_test_split, GridSearchCV\n",
        "from sklearn.feature_extraction.text import TfidfVectorizer\n",
        "from nltk.stem import WordNetLemmatizer\n",
        "from sklearn.linear_model import LogisticRegression\n",
        "from sklearn.naive_bayes import MultinomialNB\n",
        "from sklearn.tree import DecisionTreeClassifier\n",
        "from sklearn.ensemble import RandomForestClassifier\n",
        "from sklearn.svm import LinearSVC\n",
        "import warnings\n",
        "warnings.filterwarnings('ignore')\n",
        "from sklearn.metrics import accuracy_score"
      ]
    },
    {
      "cell_type": "code",
      "source": [
        "import nltk   #cell-2\n",
        "nltk.download('stopwords')\n"
      ],
      "metadata": {
        "colab": {
          "base_uri": "https://localhost:8080/"
        },
        "id": "CtKtaIpq-uoc",
        "outputId": "073c7220-c8ea-4027-f594-e4dc6472f16f"
      },
      "id": "CtKtaIpq-uoc",
      "execution_count": 2,
      "outputs": [
        {
          "output_type": "stream",
          "name": "stderr",
          "text": [
            "[nltk_data] Downloading package stopwords to /root/nltk_data...\n",
            "[nltk_data]   Unzipping corpora/stopwords.zip.\n"
          ]
        },
        {
          "output_type": "execute_result",
          "data": {
            "text/plain": [
              "True"
            ]
          },
          "metadata": {},
          "execution_count": 2
        }
      ]
    },
    {
      "cell_type": "code",
      "execution_count": 3,
      "id": "4c2ae31d",
      "metadata": {
        "id": "4c2ae31d"
      },
      "outputs": [],
      "source": [
        "intents = {\n",
        "  \"intents\": [\n",
        "    {\n",
        "      \"tag\": \"greeting\",\n",
        "      \"patterns\": [\"Hi\", \"Hello\", \"Hey\", \"Good day\", \"How are you?\"],\n",
        "      \"responses\": [\"Hello!\", \"Good to see you!\", \"Hi there, how can I help?\"],\n",
        "      \"context_set\": \"\"\n",
        "    },\n",
        "    {\n",
        "      \"tag\": \"farewell\",\n",
        "      \"patterns\": [\"Goodbye\", \"Bye\", \"See you later\", \"Talk to you later\"],\n",
        "      \"responses\": [\"Sad to see you go :(\", \"Goodbye!\", \"Come back soon!\"],\n",
        "      \"context_set\": \"\"\n",
        "    },\n",
        "    {\n",
        "      \"tag\": \"creator\",\n",
        "      \"patterns\": [\"Who created you?\", \"Who is your developer?\", \"Who made you?\"],\n",
        "      \"responses\": [\"I was created by Aditya Shukla.\"],\n",
        "      \"context_set\": \"\"\n",
        "    },\n",
        "    {\n",
        "      \"tag\": \"identity\",\n",
        "      \"patterns\": [\"What is your name?\", \"What should I call you?\", \"Who are you?\"],\n",
        "      \"responses\": [\"You can call me College Assistant. I'm a Chatbot.\"],\n",
        "      \"context_set\": \"\"\n",
        "    },\n",
        "    {\n",
        "      \"tag\": \"hours\",\n",
        "      \"patterns\": [\"What are the college timings?\", \"When is the college open?\", \"What are your hours of operation?\"],\n",
        "      \"responses\": [\"The college is open from 8am to 5pm, Monday to Saturday.\"],\n",
        "      \"context_set\": \"\"\n",
        "    },\n",
        "    {\n",
        "      \"tag\": \"contact\",\n",
        "      \"patterns\": [\"How can I contact the college?\", \"What is the college telephone number?\", \"Can I get your contact number?\"],\n",
        "      \"responses\": [\"You can contact the college at 123456789.\"],\n",
        "      \"context_set\": \"\"\n",
        "    },\n",
        "    {\n",
        "      \"tag\": \"courses\",\n",
        "      \"patterns\": [\"What courses are offered in the college?\", \"Can you tell me about the available courses?\", \"What are the branches in the college?\"],\n",
        "      \"responses\": [\"The college offers courses in Information Technology, Computer Engineering, Mechanical Engineering, Chemical Engineering, and Civil Engineering.\"],\n",
        "      \"context_set\": \"\"\n",
        "    },\n",
        "    {\n",
        "      \"tag\": \"fees\",\n",
        "      \"patterns\": [\"How much is the college fee?\", \"Tell me about the fees\", \"What are the hostel fees?\"],\n",
        "      \"responses\": [\"For detailed fee information, please visit our college website.\"],\n",
        "      \"context_set\": \"\"\n",
        "    },\n",
        "    {\n",
        "      \"tag\": \"location\",\n",
        "      \"patterns\": [\"Where is the college located?\", \"What is the college address?\", \"How can I reach the college?\"],\n",
        "      \"responses\": [\"The college is located at [insert address]. You can find the location on Google Maps.\"],\n",
        "      \"context_set\": \"\"\n",
        "    },\n",
        "    {\n",
        "      \"tag\": \"hostel\",\n",
        "      \"patterns\": [\"Does the college provide hostel facilities?\", \"Where is the hostel located?\", \"What are the hostel fees?\"],\n",
        "      \"responses\": [\"For detailed information about the hostel, please visit our college website.\"],\n",
        "      \"context_set\": \"\"\n",
        "    },\n",
        "    {\n",
        "      \"tag\": \"events\",\n",
        "      \"patterns\": [\"What events are organized in the college?\", \"Are there any upcoming events?\", \"Tell me about the college events.\"],\n",
        "      \"responses\": [\"For information about the events, please visit our college website.\"],\n",
        "      \"context_set\": \"\"\n",
        "    },\n",
        "    {\n",
        "      \"tag\": \"admission\",\n",
        "      \"patterns\": [\"What is the admission process?\", \"How can I take admission in the college?\", \"Tell me about the admission criteria.\"],\n",
        "      \"responses\": [\"For detailed admission information, please visit our college website.\"],\n",
        "      \"context_set\": \"\"\n",
        "    },\n",
        "    {\n",
        "      \"tag\": \"library\",\n",
        "      \"patterns\": [\"Does the college have a library?\", \"Where is the library located?\", \"What are the library timings?\"],\n",
        "      \"responses\": [\"Yes, the college has a library. The library is located [insert location]. The timings are from 9am to 5pm, Monday to Friday.\"],\n",
        "      \"context_set\": \"\"\n",
        "    },\n",
        "    {\n",
        "      \"tag\": \"facilities\",\n",
        "      \"patterns\": [\"What facilities are available in the college?\", \"Tell me about the college facilities.\", \"Do you have a sports complex?\"],\n",
        "      \"responses\": [\"The college provides various facilities including a sports complex, labs, cafeteria, and a library.\"],\n",
        "      \"context_set\": \"\"\n",
        "    },\n",
        "    {\n",
        "      \"tag\": \"placement\",\n",
        "      \"patterns\": [\"How are the placements in the college?\", \"Tell me about the college placements.\", \"What is the placement record?\"],\n",
        "      \"responses\": [\"The college has a good placement record. Many reputed companies visit our campus for recruitment.\"],\n",
        "      \"context_set\": \"\"\n",
        "    },\n",
        "    {\n",
        "      \"tag\": \"school_choice\",\n",
        "      \"patterns\": [\"Why did you choose this school?\", \"What made you decide to attend this college?\"],\n",
        "      \"responses\": [\"I chose this school because of its strong academic reputation, excellent faculty, and a wide range of courses offered.\"],\n",
        "      \"context_set\": \"\"\n",
        "    },\n",
        "    {\n",
        "      \"tag\": \"happiness\",\n",
        "      \"patterns\": [\"Are you happy here?\", \"Do you enjoy being at this college?\"],\n",
        "      \"responses\": [\"As an AI, I don't have emotions, but I'm here to assist and provide information about the college.\"],\n",
        "      \"context_set\": \"\"\n",
        "    },\n",
        "    {\n",
        "      \"tag\": \"strengths\",\n",
        "      \"patterns\": [\"What are your school's strengths?\", \"What makes your college stand out?\"],\n",
        "      \"responses\": [\"Our college excels in providing quality education, fostering a supportive learning environment, and offering a wide range of extracurricular activities.\"],\n",
        "      \"context_set\": \"\"\n",
        "    },\n",
        "    {\n",
        "      \"tag\": \"complaints\",\n",
        "      \"patterns\": [\"What's your #1 complaint about your school?\", \"What do you think needs improvement in your college?\"],\n",
        "      \"responses\": [\"While my purpose is to provide information, some students may have different opinions. It's always good to provide feedback for continuous improvement.\"],\n",
        "      \"context_set\": \"\"\n",
        "    },\n",
        "    {\n",
        "      \"tag\": \"improvements\",\n",
        "      \"patterns\": [\"What else could stand to be improved?\", \"In which areas do you think your college can improve?\"],\n",
        "      \"responses\": [\"Continuous improvement is essential for any institution. Areas that can be considered for improvement include infrastructure, facilities, and student support services.\"],\n",
        "      \"context_set\": \"\"\n",
        "    },\n",
        "    {\n",
        "      \"tag\": \"accessibility\",\n",
        "      \"patterns\": [\"How accessible are administrators, registrars, financial aid officers, etc.?\", \"Can students easily reach out to college staff when needed?\"],\n",
        "      \"responses\": [\"The college administration strives to maintain accessibility for students. Office hours and contact information for various staff members are available for student assistance.\"],\n",
        "      \"context_set\": \"\"\n",
        "    },\n",
        "    {\n",
        "      \"tag\": \"academics_majors\",\n",
        "      \"patterns\": [\"What majors are popular?\", \"Which fields of study have a high enrollment?\", \"What are the most sought-after majors in your college?\"],\n",
        "      \"responses\": [\"Popular majors in our college include Computer Science, Business Administration, Psychology, Engineering, and Biology.\"],\n",
        "      \"context_set\": \"\"\n",
        "    },\n",
        "    {\n",
        "      \"tag\": \"academics_reputation\",\n",
        "      \"patterns\": [\"What departments or programs have the best reputations?\", \"Which academic programs are well-regarded?\", \"Are there any standout departments in your college?\"],\n",
        "      \"responses\": [\"Our college has well-regarded departments in Computer Science, Engineering, and Business Administration. These programs have a strong reputation for academic excellence.\"],\n",
        "      \"context_set\": \"\"\n",
        "    },\n",
        "    {\n",
        "      \"tag\": \"favorite_class\",\n",
        "      \"patterns\": [\"What's your favorite class?\", \"Which class do you enjoy the most?\", \"Do you have a favorite subject?\"],\n",
        "      \"responses\": [\"As an AI, I don't have personal preferences. However, students often enjoy classes that align with their interests and career goals.\"],\n",
        "      \"context_set\": \"\"\n",
        "    },\n",
        "    {\n",
        "      \"tag\": \"professors_teachers\",\n",
        "      \"patterns\": [\"Are your professors good teachers?\", \"How is the quality of teaching at your college?\", \"Do you have experienced faculty?\"],\n",
        "      \"responses\": [\"Our college prides itself on having experienced and dedicated faculty members who are committed to providing quality education.\"],\n",
        "      \"context_set\": \"\"\n",
        "    },\n",
        "    {\n",
        "      \"tag\": \"professors_office_hours\",\n",
        "      \"patterns\": [\"Do your professors hold office hours, and will they meet with you outside of class?\", \"Are professors available for one-on-one meetings?\", \"Can students easily meet with professors?\"],\n",
        "      \"responses\": [\"Most professors at our college hold regular office hours and are available for one-on-one meetings to address student queries and provide additional guidance.\"],\n",
        "      \"context_set\": \"\"\n",
        "    },\n",
        "    {\n",
        "      \"tag\": \"professors_vs_TAs\",\n",
        "      \"patterns\": [\"Are most of your classes taught by professors or teaching assistants?\", \"Who primarily teaches the classes?\", \"Do you have a lot of classes taught by TAs?\"],\n",
        "      \"responses\": [\"The majority of classes at our college are taught by professors. However, in some cases, teaching assistants may assist with course instruction or hold discussion sessions.\"],\n",
        "      \"context_set\": \"\"\n",
        "    },\n",
        "    {\n",
        "      \"tag\": \"first_choice_classes\",\n",
        "      \"patterns\": [\"Were you able to take most of your first-choice classes?\", \"Do students generally get their preferred classes?\", \"How likely are you to get into your desired classes?\"],\n",
        "      \"responses\": [\"While course availability can vary, our college aims to accommodate students' preferences as much as possible. Course registration is conducted on a first-come, first-served basis.\"],\n",
        "      \"context_set\": \"\"\n",
        "    },\n",
        "    {\n",
        "      \"tag\": \"class_format\",\n",
        "      \"patterns\": [\"Are your classes lecture-based or discussion-based?\", \"How are the classes structured?\", \"What's the typical format of a class?\"],\n",
        "      \"responses\": [\"The class format can vary depending on the subject and the instructor's teaching style. Some classes may be lecture-based, while others may involve more interactive discussions and group activities.\"],\n",
        "      \"context_set\": \"\"\n",
        "    },\n",
        "    {\n",
        "      \"tag\": \"reading_writing\",\n",
        "      \"patterns\": [\"How much reading and writing is required in your courses?\", \"Are there a lot of assignments involving reading and writing?\", \"Is there a heavy emphasis on written work?\"],\n",
        "      \"responses\": [\"The amount of reading and writing required in courses can vary. Generally, students can expect a balanced mix of reading assignments, written projects, and exams.\"],\n",
        "      \"context_set\": \"\"\n",
        "    },\n",
        "    {\n",
        "      \"tag\": \"collaborative_work\",\n",
        "      \"patterns\": [\"How often are collaborative work or group presentations required?\", \"Do you have a lot of group projects?\", \"Is there an emphasis on teamwork?\"],\n",
        "      \"responses\": [\"Collaborative work and group presentations are part of the learning experience at our college. Students often engage in group projects to enhance teamwork and develop important skills.\"],\n",
        "      \"context_set\": \"\"\n",
        "    },\n",
        "    {\n",
        "      \"tag\": \"academic_advising\",\n",
        "      \"patterns\": [\"How satisfied are you with academic advising?\", \"Is the academic advising program helpful?\", \"Do advisors provide guidance for course selection?\"],\n",
        "      \"responses\": [\"Academic advising plays a crucial role in guiding students' academic journeys. Our college has dedicated advisors who provide assistance with course selection, degree planning, and academic support.\"],\n",
        "      \"context_set\": \"\"\n",
        "    },\n",
        "    {\n",
        "      \"tag\": \"tutoring_programs\",\n",
        "      \"patterns\": [\"Do students use any on-campus tutoring programs or writing centers?\", \"Are there resources available for academic support?\", \"How can I get tutoring assistance?\"],\n",
        "      \"responses\": [\"Our college provides on-campus tutoring programs and writing centers to support students in their academic endeavors. These resources can help students with subject-specific assistance and writing skills.\"],\n",
        "      \"context_set\": \"\"\n",
        "    },\n",
        "    {\n",
        "      \"tag\": \"class_size\",\n",
        "      \"patterns\": [\"How big are your classes?\", \"Are the class sizes large or small?\", \"Do you have small class sizes?\"],\n",
        "      \"responses\": [\"Class sizes can vary depending on the course and program. While some classes may have a larger enrollment, others, especially upper-level courses, tend to have smaller class sizes for more personalized attention.\"],\n",
        "      \"context_set\": \"\"\n",
        "    },\n",
        "    {\n",
        "      \"tag\": \"independent_study\",\n",
        "      \"patterns\": [\"Does your major require an independent study or capstone project?\", \"Are there opportunities for independent research?\", \"Is there a culminating project for your major?\"],\n",
        "      \"responses\": [\"Many majors at our college offer opportunities for independent study or capstone projects. These experiences allow students to delve deeper into their fields of interest and apply their knowledge.\"],\n",
        "      \"context_set\": \"\"\n",
        "    },\n",
        "    {\n",
        "      \"tag\": \"professor_research\",\n",
        "      \"patterns\": [\"Are professors available for research with students?\", \"Can students engage in research projects with faculty?\", \"How can I get involved in research at your college?\"],\n",
        "      \"responses\": [\"Faculty members at our college actively engage in research, and students often have opportunities to collaborate on research projects. You can reach out to professors in your field of interest to inquire about research opportunities.\"],\n",
        "      \"context_set\": \"\"\n",
        "    },\n",
        "    {\n",
        "      \"tag\": \"study_abroad\",\n",
        "      \"patterns\": [\"Is it popular to study abroad?\", \"Are there study abroad programs available?\", \"Can students spend a semester abroad?\"],\n",
        "      \"responses\": [\"Studying abroad is a popular option for many students at our college. We offer various study abroad programs and opportunities to experience different cultures and gain international exposure.\"],\n",
        "      \"context_set\": \"\"\n",
        "    },\n",
        "    {\n",
        "      \"tag\": \"first_year_experience\",\n",
        "      \"patterns\": [\"What's it like to be a first-year student here?\", \"Can you describe the first-year experience?\", \"What should I expect as a freshman?\"],\n",
        "      \"responses\": [\"As a first-year student, you can expect a supportive and welcoming environment. Orientation programs, peer mentoring, and academic support services are available to help you transition smoothly into college life.\"],\n",
        "      \"context_set\": \"\"\n",
        "    },\n",
        "    {\n",
        "      \"tag\": \"typical_day\",\n",
        "      \"patterns\": [\"What's a typical day like?\", \"Can you describe a day in the life of a student?\", \"What's the daily routine at your college?\"],\n",
        "      \"responses\": [\"A typical day as a student involves attending classes, engaging in study sessions, participating in extracurricular activities, and utilizing campus resources. Each student's daily routine may vary based on their schedule and interests.\"],\n",
        "      \"context_set\": \"\"\n",
        "    },\n",
        "    {\n",
        "      \"tag\": \"study_time\",\n",
        "      \"patterns\": [\"How much time do students spend studying per week?\", \"Is there a lot of studying required?\", \"What's the average study time for students?\"],\n",
        "      \"responses\": [\"The amount of time students spend studying can vary depending on their course load, study habits, and personal preferences. On average, students dedicate several hours per week to studying.\"],\n",
        "      \"context_set\": \"\"\n",
        "    },\n",
        "    {\n",
        "      \"tag\": \"non_class_activities\",\n",
        "      \"patterns\": [\"What do you do when you're not in class?\", \"How do students spend their free time?\", \"Are there activities to do outside of class?\"],\n",
        "      \"responses\": [\"Outside of class, students engage in various activities such as participating in clubs and organizations, attending campus events, exploring the surrounding community, and spending time with friends.\"],\n",
        "      \"context_set\": \"\"\n",
        "    },\n",
        "    {\n",
        "      \"tag\": \"weekend_activities\",\n",
        "      \"patterns\": [\"What do you do on the weekends?\", \"Are there weekend activities or events?\", \"How do students spend their weekends?\"],\n",
        "      \"responses\": [\"On weekends, students often take part in campus events, recreational activities, social gatherings, and may also use the time for relaxation and personal pursuits.\"],\n",
        "      \"context_set\": \"\"\n",
        "    },\n",
        "    {\n",
        "      \"tag\": \"social_scene\",\n",
        "      \"patterns\": [\"What is the social scene like?\", \"How would you describe the social life on campus?\", \"Are there opportunities to meet new people?\"],\n",
        "      \"responses\": [\"The social scene on campus is vibrant and diverse. There are plenty of opportunities to meet new people, join clubs and organizations, attend social events, and build lifelong friendships.\"],\n",
        "      \"context_set\": \"\"\n",
        "    },\n",
        "    {\n",
        "      \"tag\": \"hometown_activities\",\n",
        "      \"patterns\": [\"What kinds of things are there to do in your school's hometown?\", \"Are there recreational activities in the local area?\", \"What are some popular attractions near the college?\"],\n",
        "      \"responses\": [\"Our school's hometown offers a range of recreational activities, cultural events, shopping centers, restaurants, and natural attractions. You can explore local parks, museums, theaters, and enjoy the local cuisine.\"],\n",
        "      \"context_set\": \"\"\n",
        "    },\n",
        "    {\n",
        "      \"tag\": \"food\",\n",
        "      \"patterns\": [\"How's the food?\", \"What is the quality of the food on campus?\", \"Are there good dining options?\"],\n",
        "      \"responses\": [\"The college provides a variety of dining options on campus, including cafeterias, food courts, and specialty restaurants. The quality of food is generally satisfactory, with options to cater to different dietary preferences.\"],\n",
        "      \"context_set\": \"\"\n",
        "    },\n",
        "    {\n",
        "      \"tag\": \"on_campus_housing\",\n",
        "      \"patterns\": [\"Do most students live on-campus?\", \"Are there on-campus housing options?\", \"What percentage of students live in dorms?\"],\n",
        "      \"responses\": [\"While the availability of on-campus housing may vary, many students choose to live in dorms or residence halls provided by the college. Off-campus housing options are also available for students.\"],\n",
        "      \"context_set\": \"\"\n",
        "    },\n",
        "    {\n",
        "      \"tag\": \"dorm_quality\",\n",
        "      \"patterns\": [\"How are the dorms?\", \"Are the dormitories comfortable?\", \"What's the quality of on-campus housing?\"],\n",
        "      \"responses\": [\"The quality of dormitories varies based on the specific residence halls. Generally, the college strives to provide comfortable and convenient living spaces with amenities that cater to students' needs.\"],\n",
        "      \"context_set\": \"\"\n",
        "    },\n",
        "    {\n",
        "      \"tag\": \"popular_clubs\",\n",
        "      \"patterns\": [\"Which clubs and student organizations are popular?\", \"Are there any standout clubs on campus?\", \"What are some of the most active student organizations?\"],\n",
        "      \"responses\": [\"Our college has a wide range of clubs and student organizations catering to diverse interests. Popular clubs include academic organizations, cultural clubs, sports teams, community service groups, and more.\"],\n",
        "      \"context_set\": \"\"\n",
        "    },\n",
        "    {\n",
        "      \"tag\": \"fraternities_sororities\",\n",
        "      \"patterns\": [\"Do lots of students belong to fraternities or sororities?\", \"Are there many Greek organizations on campus?\", \"What's the Greek life like at your college?\"],\n",
        "      \"responses\": [\"While the presence and prominence of fraternities and sororities can vary among colleges, our college does have a Greek life community. Participation in these organizations is a personal choice for interested students.\"],\n",
        "      \"context_set\": \"\"\n",
        "    },\n",
        "    {\n",
        "      \"tag\": \"favorite_place_on_campus\",\n",
        "      \"patterns\": [\"What's your favorite place on campus?\", \"Which location do you enjoy the most?\", \"Where do students like to hang out?\"],\n",
        "      \"responses\": [\"As an AI, I don't have personal preferences. However, many students enjoy spending time in common areas, libraries, student centers, outdoor spaces, and campus cafeterias.\"],\n",
        "      \"context_set\": \"\"\n",
        "    },\n",
        "    {\n",
        "      \"tag\": \"study_locations\",\n",
        "      \"patterns\": [\"Where do you like to study?\", \"What are some good study spots?\", \"Are there quiet places to study on campus?\"],\n",
        "      \"responses\": [\"There are several study spots on campus, including libraries, study lounges, coffee shops, and outdoor seating areas. It's important to find a location that suits your study preferences and helps you focus.\"],\n",
        "      \"context_set\": \"\"\n",
        "    },\n",
        "    {\n",
        "      \"tag\": \"campus_facilities\",\n",
        "      \"patterns\": [\"What are the facilities like (science labs, libraries, theaters, gyms, etc.)?\", \"Are the campus facilities well-maintained?\", \"Does the college have modern facilities?\"],\n",
        "      \"responses\": [\"Our college prides itself on maintaining well-equipped facilities to support students' academic and extracurricular activities. This includes modern science labs, libraries with extensive resources, theaters, and well-equipped gyms.\"],\n",
        "      \"context_set\": \"\"\n",
        "    },\n",
        "    {\n",
        "      \"tag\": \"computer_labs\",\n",
        "      \"patterns\": [\"Are there enough computer labs?\", \"How accessible are the computer labs?\", \"Is there a shortage of computer lab facilities?\"],\n",
        "      \"responses\": [\"Our college provides an ample number of computer labs across campus. These labs are accessible to students and equipped with the necessary technology and software needed for academic work.\"],\n",
        "      \"context_set\": \"\"\n",
        "    },\n",
        "    {\n",
        "      \"tag\": \"campus_wifi\",\n",
        "      \"patterns\": [\"How is the WiFi on campus?\", \"Is the campus WiFi reliable?\", \"Are there any connectivity issues with the WiFi?\"],\n",
        "      \"responses\": [\"The campus WiFi network is designed to provide reliable internet connectivity to students, faculty, and staff. However, occasional connectivity issues may arise, which are usually promptly addressed by the IT department.\"],\n",
        "      \"context_set\": \"\"\n",
        "    },\n",
        "    {\n",
        "      \"tag\": \"campus_navigation\",\n",
        "      \"patterns\": [\"Is it easy to get around campus?\", \"Are the campus buildings easy to navigate?\", \"Is the campus layout student-friendly?\"],\n",
        "      \"responses\": [\"The campus is designed to be student-friendly, and campus buildings are typically well-marked and easy to navigate. Campus maps, signage, and digital resources are available to help students find their way around.\"],\n",
        "      \"context_set\": \"\"\n",
        "    },\n",
        "    {\n",
        "      \"tag\": \"sports_popularity\",\n",
        "      \"patterns\": [\"Are sports popular?\", \"Do many students participate in sports?\", \"What's the athletic culture like at your college?\"],\n",
        "      \"responses\": [\"Sports are popular at our college, and many students participate in various athletic activities. We have a range of sports teams, intramural sports, and fitness programs to cater to different interests and skill levels.\"],\n",
        "      \"context_set\": \"\"\n",
        "    },\n",
        "    {\n",
        "      \"tag\": \"school_spirit\",\n",
        "      \"patterns\": [\"Is there a lot of school spirit?\", \"Do students show a strong sense of school pride?\", \"Are there spirited events or traditions?\"],\n",
        "      \"responses\": [\"Our college has a vibrant school spirit, and students often show a strong sense of pride in their institution. There are spirited events, traditions, and opportunities to engage with the college community and showcase school pride.\"],\n",
        "      \"context_set\": \"\"\n",
        "    },\n",
        "    {\n",
        "      \"tag\": \"fellow_students\",\n",
        "      \"patterns\": [\"How would you describe your fellow students?\", \"What are the students like?\", \"Is there a sense of community among students?\"],\n",
        "      \"responses\": [\"The student body is diverse and inclusive, with individuals from various backgrounds, interests, and experiences. Students generally foster a sense of community and support each other's academic and personal growth.\"],\n",
        "      \"context_set\": \"\"\n",
        "    },\n",
        "    {\n",
        "      \"tag\": \"friendly_students\",\n",
        "      \"patterns\": [\"Are the students here friendly?\", \"Is it easy to make friends?\", \"Do students interact with each other?\"],\n",
        "      \"responses\": [\"Yes, the students here are generally friendly and welcoming. The college environment provides ample opportunities to meet new people, make friends, and form meaningful connections both inside and outside the classroom.\"],\n",
        "      \"context_set\": \"\"\n",
        "    },\n",
        "    {\n",
        "      \"tag\": \"student_body_unique\",\n",
        "      \"patterns\": [\"What makes the student body unique?\", \"Is there anything special about the student population?\", \"What sets the students apart at your college?\"],\n",
        "      \"responses\": [\"The student body at our college is unique in its diversity of backgrounds, perspectives, talents, and passions. This diversity fosters a rich learning environment and encourages students to embrace different cultures and viewpoints.\"],\n",
        "      \"context_set\": \"\"\n",
        "    },\n",
        "    {\n",
        "      \"tag\": \"campus_diversity\",\n",
        "      \"patterns\": [\"Is there diversity on campus?\", \"Are there students from different cultural backgrounds?\", \"Does the college promote diversity and inclusion?\"],\n",
        "      \"responses\": [\"Yes, our college values diversity and strives to create an inclusive campus community. Students from different cultural backgrounds, ethnicities, and countries contribute to the diverse fabric of our college community.\"],\n",
        "      \"context_set\": \"\"\n",
        "    },\n",
        "    {\n",
        "      \"tag\": \"international_students\",\n",
        "      \"patterns\": [\"Are there many students from other countries?\", \"Do you have a significant international student population?\", \"How diverse is the international representation at your college?\"],\n",
        "      \"responses\": [\"Our college welcomes students from around the world, and we have a diverse international student population. International students contribute to the cultural exchange and global perspectives within the college community.\"],\n",
        "      \"context_set\": \"\"\n",
        "    },\n",
        "    {\n",
        "      \"tag\": \"interactions_among_students\",\n",
        "      \"patterns\": [\"Do students of different races and classes interact easily?\", \"Is there interaction and socialization among diverse groups?\", \"Do students embrace diversity and engage in cross-cultural interactions?\"],\n",
        "      \"responses\": [\"Students at our college have opportunities to interact and socialize with peers from different races, classes, and cultural backgrounds. The college promotes a welcoming and inclusive environment that encourages cross-cultural interactions and understanding.\"],\n",
        "      \"context_set\": \"\"\n",
        "    },\n",
        "    {\n",
        "      \"tag\": \"student_cliques\",\n",
        "      \"patterns\": [\"Are students cliquish?\", \"Is there a presence of cliques on campus?\", \"Do students segregate into exclusive groups?\"],\n",
        "      \"responses\": [\"While some social groups may naturally form based on shared interests and affiliations, our college encourages inclusivity and fosters an environment where students from different backgrounds can mingle and form connections beyond cliques.\"],\n",
        "      \"context_set\": \"\"\n",
        "    },\n",
        "    {\n",
        "      \"tag\": \"internship_opportunities\",\n",
        "      \"patterns\": [\"Are internships available? How do you find them?\", \"What internship opportunities are there?\", \"How does the college support students in finding internships?\"],\n",
        "      \"responses\": [\"Internship opportunities are available for students, and the college often provides resources and support to help students find and secure internships. The college's career services office and faculty advisors can offer guidance in exploring and applying for internships.\"],\n",
        "      \"context_set\": \"\"\n",
        "    },\n",
        "    {\n",
        "      \"tag\": \"career_services\",\n",
        "      \"patterns\": [\"Is Career Services helpful?\", \"What services does the career center provide?\", \"How effective is the college's career guidance?\"],\n",
        "      \"responses\": [\"Career Services at our college offers various resources and assistance to help students with career exploration, resume building, job search strategies, interview preparation, and more. Many students find the career guidance helpful in their professional development.\"],\n",
        "      \"context_set\": \"\"\n",
        "    },\n",
        "    {\n",
        "      \"tag\": \"mentorship_program\",\n",
        "      \"patterns\": [\"Do you have a mentor?\", \"Is there a mentorship program?\", \"How can students connect with mentors?\"],\n",
        "      \"responses\": [\"Our college may have a mentorship program or opportunities for students to connect with mentors. These programs facilitate valuable guidance and support from experienced individuals who can provide insights and advice on academic and career paths.\"],\n",
        "      \"context_set\": \"\"\n",
        "    },\n",
        "    {\n",
        "      \"tag\": \"co-op_program\",\n",
        "      \"patterns\": [\"Does your school have a co-op program?\", \"Are there cooperative education opportunities?\", \"How does the college support students in co-op experiences?\"],\n",
        "      \"responses\": [\"Some colleges offer co-op programs where students can gain practical work experience related to their field of study while earning academic credit. If our college has a co-op program, students can explore such opportunities with the support of the college's career services or cooperative education office.\"],\n",
        "      \"context_set\": \"\"\n",
        "    },\n",
        "    {\n",
        "      \"tag\": \"leadership_opportunities\",\n",
        "      \"patterns\": [\"What options exist for leadership skills on campus?\", \"Are there leadership programs or positions?\", \"How can students develop leadership skills?\"],\n",
        "      \"responses\": [\"Our college offers various opportunities for students to develop leadership skills. Students can join student government, clubs, or organizations that provide leadership positions, participate in leadership workshops or programs, and engage in community service to foster leadership qualities.\"],\n",
        "      \"context_set\": \"\"\n",
        "    },\n",
        "    {\n",
        "      \"tag\": \"service_learning\",\n",
        "      \"patterns\": [\"What options exist for service learning in the community?\", \"Are there community service programs?\", \"How can students get involved in community service?\"],\n",
        "      \"responses\": [\"Our college often encourages service learning and community engagement. Students can get involved in community service programs, volunteer with local organizations, participate in service-learning courses, or join campus initiatives dedicated to making a positive impact in the community.\"],\n",
        "      \"context_set\": \"\"\n",
        "    },\n",
        "    {\n",
        "      \"tag\": \"employer_recruitment\",\n",
        "      \"patterns\": [\"Do employers recruit students on campus?\", \"Are there career fairs or job fairs?\", \"How does the college connect students with potential employers?\"],\n",
        "      \"responses\": [\"Employer recruitment is a common practice at many colleges. Career fairs, job fairs, and networking events are organized to connect students with potential employers. The college's career services office often plays a role in facilitating these connections.\"],\n",
        "      \"context_set\": \"\"\n",
        "    },\n",
        "    {\n",
        "      \"tag\": \"summer_jobs\",\n",
        "      \"patterns\": [\"How easy is it to find summer jobs and other kinds of work through your school?\", \"Are there resources for finding summer employment?\", \"Does the college assist with summer job opportunities?\"],\n",
        "      \"responses\": [\"Our college may provide resources and support to help students find summer jobs and other types of employment. The career services office, online job boards, and networking events can be valuable in exploring and securing summer job opportunities.\"],\n",
        "      \"context_set\": \"\"\n",
        "    },\n",
        "    {\n",
        "      \"tag\": \"notable_graduates\",\n",
        "      \"patterns\": [\"Who are some of the notable graduates from your college?\", \"Can you mention any famous alumni?\", \"Which successful individuals attended your college?\"],\n",
        "      \"responses\": [\"Our college has a distinguished list of notable graduates and successful alumni in various fields. Some may include renowned professionals, entrepreneurs, artists, scientists, and leaders who have made significant contributions to their respective fields.\"],\n",
        "      \"context_set\": \"\"\n",
        "    },\n",
        "    {\n",
        "      \"tag\": \"alumni_association\",\n",
        "      \"patterns\": [\"How visible is your school's alumni association on campus?\", \"Does the college have an active alumni network?\", \"Are there opportunities to connect with alumni?\"],\n",
        "      \"responses\": [\"Many colleges have active alumni associations that offer networking opportunities, mentorship programs, and career support for current students. The visibility and engagement of the alumni association can vary, but efforts are often made to connect students with alumni.\"],\n",
        "      \"context_set\": \"\"\n",
        "    },\n",
        "    {\n",
        "      \"tag\": \"hands-on_experiences\",\n",
        "      \"patterns\": [\"What kinds of hands-on or practical experiences have you had in and outside of the classroom?\", \"Are there opportunities for practical learning?\", \"How does the college emphasize experiential learning?\"],\n",
        "      \"responses\": [\"Colleges often provide opportunities for hands-on and practical experiences both inside and outside the classroom. These may include internships, research projects, fieldwork, service-learning, study abroad programs, and collaborative projects that enhance the learning process and offer real-world application of knowledge.\"],\n",
        "      \"context_set\": \"\"\n",
        "    }\n",
        "  ]\n",
        "}"
      ]
    },
    {
      "cell_type": "code",
      "execution_count": 4,
      "id": "ec3d7c30",
      "metadata": {
        "id": "ec3d7c30"
      },
      "outputs": [],
      "source": [
        "# cell-3\n",
        "def synonym_replacement(tokens, limit):\n",
        "    augmented_sentences = []\n",
        "    for i in range(len(tokens)):\n",
        "        synonyms = []\n",
        "        for syn in wordnet.synsets(tokens[i]):\n",
        "            for lemma in syn.lemmas():\n",
        "                synonyms.append(lemma.name())\n",
        "        if len(synonyms) > 0:\n",
        "            num_augmentations = min(limit, len(synonyms))\n",
        "            sampled_synonyms = random.sample(synonyms, num_augmentations)\n",
        "            for synonym in sampled_synonyms:\n",
        "                augmented_tokens = tokens[:i] + [synonym] + tokens[i+1:]\n",
        "                augmented_sentences.append(' '.join(augmented_tokens))\n",
        "    return augmented_sentences"
      ]
    },
    {
      "cell_type": "code",
      "source": [
        "import nltk #cell-4\n",
        "nltk.download('punkt')\n"
      ],
      "metadata": {
        "colab": {
          "base_uri": "https://localhost:8080/"
        },
        "id": "9upnSxnA_F2a",
        "outputId": "a28b935e-275d-456b-e2f2-b971bfef1d00"
      },
      "id": "9upnSxnA_F2a",
      "execution_count": 5,
      "outputs": [
        {
          "output_type": "stream",
          "name": "stderr",
          "text": [
            "[nltk_data] Downloading package punkt to /root/nltk_data...\n",
            "[nltk_data]   Unzipping tokenizers/punkt.zip.\n"
          ]
        },
        {
          "output_type": "execute_result",
          "data": {
            "text/plain": [
              "True"
            ]
          },
          "metadata": {},
          "execution_count": 5
        }
      ]
    },
    {
      "cell_type": "code",
      "source": [
        "import nltk #cell-5\n",
        "nltk.download('wordnet')\n"
      ],
      "metadata": {
        "colab": {
          "base_uri": "https://localhost:8080/"
        },
        "id": "1mkgGAe1_Vze",
        "outputId": "9c392091-3b28-4e3b-dda2-7033baaad709"
      },
      "id": "1mkgGAe1_Vze",
      "execution_count": 6,
      "outputs": [
        {
          "output_type": "stream",
          "name": "stderr",
          "text": [
            "[nltk_data] Downloading package wordnet to /root/nltk_data...\n"
          ]
        },
        {
          "output_type": "execute_result",
          "data": {
            "text/plain": [
              "True"
            ]
          },
          "metadata": {},
          "execution_count": 6
        }
      ]
    },
    {
      "cell_type": "code",
      "execution_count": 7,
      "id": "19b97213",
      "metadata": {
        "colab": {
          "base_uri": "https://localhost:8080/"
        },
        "id": "19b97213",
        "outputId": "95ec3dd6-6e1c-4582-bcc7-b3bc6bd8865b"
      },
      "outputs": [
        {
          "output_type": "stream",
          "name": "stdout",
          "text": [
            "3202\n",
            "3202\n"
          ]
        }
      ],
      "source": [
        "text_data = []    #cell-6\n",
        "labels = []\n",
        "stopwords = set(nltk.corpus.stopwords.words('english'))\n",
        "lemmatizer = WordNetLemmatizer()\n",
        "\n",
        "\n",
        "limit_per_tag = 40\n",
        "\n",
        "for intent in intents['intents']:\n",
        "    augmented_sentences_per_tag = 0\n",
        "    for example in intent['patterns']:\n",
        "        tokens = nltk.word_tokenize(example.lower())\n",
        "        filtered_tokens = [lemmatizer.lemmatize(token) for token in tokens if token not in stopwords and token.isalpha()]\n",
        "        if filtered_tokens:\n",
        "            text_data.append(' '.join(filtered_tokens))\n",
        "            labels.append(intent['tag'])\n",
        "\n",
        "            augmented_sentences = synonym_replacement(filtered_tokens, limit_per_tag - augmented_sentences_per_tag)\n",
        "            for augmented_sentence in augmented_sentences:\n",
        "                text_data.append(augmented_sentence)\n",
        "                labels.append(intent['tag'])\n",
        "                augmented_sentences_per_tag += 1\n",
        "                if augmented_sentences_per_tag >= limit_per_tag:\n",
        "                    break\n",
        "\n",
        "print(len(text_data))\n",
        "print(len(labels))"
      ]
    },
    {
      "cell_type": "code",
      "execution_count": 8,
      "id": "85d546f5",
      "metadata": {
        "id": "85d546f5"
      },
      "outputs": [],
      "source": [
        "vectorizer = TfidfVectorizer()      #cell-7\n",
        "X = vectorizer.fit_transform(text_data)\n",
        "y = labels"
      ]
    },
    {
      "cell_type": "code",
      "execution_count": 9,
      "id": "bcb2ea4a",
      "metadata": {
        "id": "bcb2ea4a"
      },
      "outputs": [],
      "source": [
        "def find_best_model(X, y, test_size=0.2):     #cell-8\n",
        "    X_train, X_test, y_train, y_test = train_test_split(X, y, test_size=test_size, random_state=100)\n",
        "\n",
        "\n",
        "    models = [\n",
        "        ('Logistic Regression', LogisticRegression(), {\n",
        "            'penalty': ['l2'],\n",
        "            'C': [0.1, 1.0, 10.0],\n",
        "            'solver': ['liblinear'],\n",
        "            'max_iter': [100, 1000, 10000]\n",
        "        }),\n",
        "        ('Multinomial Naive Bayes', MultinomialNB(), {'alpha': [0.1, 0.5, 1.0]}),\n",
        "        ('Linear SVC', LinearSVC(), {\n",
        "            'penalty': ['l2'],\n",
        "            'loss': ['hinge', 'squared_hinge'],\n",
        "            'C': [0.1, 1, 10],\n",
        "            'max_iter': [100, 1000, 10000]\n",
        "        }),\n",
        "        ('Decision Tree', DecisionTreeClassifier(), {\n",
        "            'max_depth': [5, 10, 20, None],\n",
        "            'min_samples_split': [2, 5, 10],\n",
        "            'min_samples_leaf': [1, 2, 4],\n",
        "            'criterion': ['gini', 'entropy']\n",
        "        }),\n",
        "        ('Random Forest', RandomForestClassifier(), {\n",
        "            'n_estimators': [100, 200, 300],\n",
        "            'max_depth': [10, 20, None],\n",
        "            'min_samples_split': [2, 5, 10],\n",
        "            'min_samples_leaf': [1, 2, 4]\n",
        "        })\n",
        "    ]\n",
        "\n",
        "    for name, model, param_grid in models:\n",
        "        grid = GridSearchCV(model, param_grid, cv=3, n_jobs=-1)\n",
        "        grid.fit(X_train, y_train)\n",
        "        y_pred = grid.predict(X_test)\n",
        "        score = accuracy_score(y_test, y_pred)\n",
        "        print(f'{name}: {score:.4f} (best parameters: {grid.best_params_})')\n",
        "\n",
        "    best_model = max(models, key=lambda x: GridSearchCV(x[1], x[2], cv=3, n_jobs=-1).fit(X_train, y_train).score(X_test, y_test))\n",
        "    print(f'\\nBest model: {best_model[0]}')\n",
        "\n",
        "    # Fit the best model to the full training data\n",
        "    best_model[1].fit(X, y)\n",
        "\n",
        "    return best_model[1]"
      ]
    },
    {
      "cell_type": "code",
      "execution_count": 10,
      "id": "47e04ba2",
      "metadata": {
        "colab": {
          "base_uri": "https://localhost:8080/"
        },
        "id": "47e04ba2",
        "outputId": "3a6b6aa0-36fe-409e-dc1f-78fbf544352d"
      },
      "outputs": [
        {
          "output_type": "stream",
          "name": "stdout",
          "text": [
            "Logistic Regression: 0.9033 (best parameters: {'C': 10.0, 'max_iter': 100, 'penalty': 'l2', 'solver': 'liblinear'})\n",
            "Multinomial Naive Bayes: 0.8799 (best parameters: {'alpha': 0.1})\n",
            "Linear SVC: 0.9033 (best parameters: {'C': 1, 'loss': 'squared_hinge', 'max_iter': 100, 'penalty': 'l2'})\n",
            "Decision Tree: 0.9048 (best parameters: {'criterion': 'gini', 'max_depth': None, 'min_samples_leaf': 1, 'min_samples_split': 2})\n",
            "Random Forest: 0.9251 (best parameters: {'max_depth': None, 'min_samples_leaf': 1, 'min_samples_split': 2, 'n_estimators': 200})\n",
            "\n",
            "Best model: Random Forest\n"
          ]
        }
      ],
      "source": [
        "best_model = find_best_model(X, y)      #cell-9"
      ]
    },
    {
      "cell_type": "code",
      "execution_count": 11,
      "id": "fdefec39",
      "metadata": {
        "id": "fdefec39"
      },
      "outputs": [],
      "source": [
        "def chatbot_response(user_input):       #cell-10\n",
        "    input_text = vectorizer.transform([user_input])\n",
        "    predicted_intent = best_model.predict(input_text)[0]\n",
        "\n",
        "    for intent in intents['intents']:\n",
        "        if intent['tag'] == predicted_intent:\n",
        "            response = random.choice(intent['responses'])\n",
        "            break\n",
        "\n",
        "    return response"
      ]
    },
    {
      "cell_type": "code",
      "source": [
        "!pip install googletrans==4.0.0-rc1       #cell-11\n"
      ],
      "metadata": {
        "colab": {
          "base_uri": "https://localhost:8080/"
        },
        "id": "T8duAirfFL1R",
        "outputId": "4b8747db-2f65-4f57-c5b9-cc54e65c5b34",
        "collapsed": true
      },
      "id": "T8duAirfFL1R",
      "execution_count": 12,
      "outputs": [
        {
          "output_type": "stream",
          "name": "stdout",
          "text": [
            "Collecting googletrans==4.0.0-rc1\n",
            "  Downloading googletrans-4.0.0rc1.tar.gz (20 kB)\n",
            "  Preparing metadata (setup.py) ... \u001b[?25l\u001b[?25hdone\n",
            "Collecting httpx==0.13.3 (from googletrans==4.0.0-rc1)\n",
            "  Downloading httpx-0.13.3-py3-none-any.whl.metadata (25 kB)\n",
            "Requirement already satisfied: certifi in /usr/local/lib/python3.10/dist-packages (from httpx==0.13.3->googletrans==4.0.0-rc1) (2024.8.30)\n",
            "Collecting hstspreload (from httpx==0.13.3->googletrans==4.0.0-rc1)\n",
            "  Downloading hstspreload-2024.10.1-py3-none-any.whl.metadata (2.1 kB)\n",
            "Requirement already satisfied: sniffio in /usr/local/lib/python3.10/dist-packages (from httpx==0.13.3->googletrans==4.0.0-rc1) (1.3.1)\n",
            "Collecting chardet==3.* (from httpx==0.13.3->googletrans==4.0.0-rc1)\n",
            "  Downloading chardet-3.0.4-py2.py3-none-any.whl.metadata (3.2 kB)\n",
            "Collecting idna==2.* (from httpx==0.13.3->googletrans==4.0.0-rc1)\n",
            "  Downloading idna-2.10-py2.py3-none-any.whl.metadata (9.1 kB)\n",
            "Collecting rfc3986<2,>=1.3 (from httpx==0.13.3->googletrans==4.0.0-rc1)\n",
            "  Downloading rfc3986-1.5.0-py2.py3-none-any.whl.metadata (6.5 kB)\n",
            "Collecting httpcore==0.9.* (from httpx==0.13.3->googletrans==4.0.0-rc1)\n",
            "  Downloading httpcore-0.9.1-py3-none-any.whl.metadata (4.6 kB)\n",
            "Collecting h11<0.10,>=0.8 (from httpcore==0.9.*->httpx==0.13.3->googletrans==4.0.0-rc1)\n",
            "  Downloading h11-0.9.0-py2.py3-none-any.whl.metadata (8.1 kB)\n",
            "Collecting h2==3.* (from httpcore==0.9.*->httpx==0.13.3->googletrans==4.0.0-rc1)\n",
            "  Downloading h2-3.2.0-py2.py3-none-any.whl.metadata (32 kB)\n",
            "Collecting hyperframe<6,>=5.2.0 (from h2==3.*->httpcore==0.9.*->httpx==0.13.3->googletrans==4.0.0-rc1)\n",
            "  Downloading hyperframe-5.2.0-py2.py3-none-any.whl.metadata (7.2 kB)\n",
            "Collecting hpack<4,>=3.0 (from h2==3.*->httpcore==0.9.*->httpx==0.13.3->googletrans==4.0.0-rc1)\n",
            "  Downloading hpack-3.0.0-py2.py3-none-any.whl.metadata (7.0 kB)\n",
            "Downloading httpx-0.13.3-py3-none-any.whl (55 kB)\n",
            "\u001b[2K   \u001b[90m━━━━━━━━━━━━━━━━━━━━━━━━━━━━━━━━━━━━━━━━\u001b[0m \u001b[32m55.1/55.1 kB\u001b[0m \u001b[31m3.6 MB/s\u001b[0m eta \u001b[36m0:00:00\u001b[0m\n",
            "\u001b[?25hDownloading chardet-3.0.4-py2.py3-none-any.whl (133 kB)\n",
            "\u001b[2K   \u001b[90m━━━━━━━━━━━━━━━━━━━━━━━━━━━━━━━━━━━━━━━━\u001b[0m \u001b[32m133.4/133.4 kB\u001b[0m \u001b[31m6.1 MB/s\u001b[0m eta \u001b[36m0:00:00\u001b[0m\n",
            "\u001b[?25hDownloading httpcore-0.9.1-py3-none-any.whl (42 kB)\n",
            "\u001b[2K   \u001b[90m━━━━━━━━━━━━━━━━━━━━━━━━━━━━━━━━━━━━━━━━\u001b[0m \u001b[32m42.6/42.6 kB\u001b[0m \u001b[31m2.3 MB/s\u001b[0m eta \u001b[36m0:00:00\u001b[0m\n",
            "\u001b[?25hDownloading idna-2.10-py2.py3-none-any.whl (58 kB)\n",
            "\u001b[2K   \u001b[90m━━━━━━━━━━━━━━━━━━━━━━━━━━━━━━━━━━━━━━━━\u001b[0m \u001b[32m58.8/58.8 kB\u001b[0m \u001b[31m3.9 MB/s\u001b[0m eta \u001b[36m0:00:00\u001b[0m\n",
            "\u001b[?25hDownloading h2-3.2.0-py2.py3-none-any.whl (65 kB)\n",
            "\u001b[2K   \u001b[90m━━━━━━━━━━━━━━━━━━━━━━━━━━━━━━━━━━━━━━━━\u001b[0m \u001b[32m65.0/65.0 kB\u001b[0m \u001b[31m4.2 MB/s\u001b[0m eta \u001b[36m0:00:00\u001b[0m\n",
            "\u001b[?25hDownloading rfc3986-1.5.0-py2.py3-none-any.whl (31 kB)\n",
            "Downloading hstspreload-2024.10.1-py3-none-any.whl (1.2 MB)\n",
            "\u001b[2K   \u001b[90m━━━━━━━━━━━━━━━━━━━━━━━━━━━━━━━━━━━━━━━━\u001b[0m \u001b[32m1.2/1.2 MB\u001b[0m \u001b[31m29.2 MB/s\u001b[0m eta \u001b[36m0:00:00\u001b[0m\n",
            "\u001b[?25hDownloading h11-0.9.0-py2.py3-none-any.whl (53 kB)\n",
            "\u001b[2K   \u001b[90m━━━━━━━━━━━━━━━━━━━━━━━━━━━━━━━━━━━━━━━━\u001b[0m \u001b[32m53.6/53.6 kB\u001b[0m \u001b[31m3.7 MB/s\u001b[0m eta \u001b[36m0:00:00\u001b[0m\n",
            "\u001b[?25hDownloading hpack-3.0.0-py2.py3-none-any.whl (38 kB)\n",
            "Downloading hyperframe-5.2.0-py2.py3-none-any.whl (12 kB)\n",
            "Building wheels for collected packages: googletrans\n",
            "  Building wheel for googletrans (setup.py) ... \u001b[?25l\u001b[?25hdone\n",
            "  Created wheel for googletrans: filename=googletrans-4.0.0rc1-py3-none-any.whl size=17397 sha256=8773a99903080021997469494d93b566d6482be8c1a076c97a094ed7c7fecf15\n",
            "  Stored in directory: /root/.cache/pip/wheels/c0/59/9f/7372f0cf70160fe61b528532e1a7c8498c4becd6bcffb022de\n",
            "Successfully built googletrans\n",
            "Installing collected packages: rfc3986, hyperframe, hpack, h11, chardet, idna, hstspreload, h2, httpcore, httpx, googletrans\n",
            "  Attempting uninstall: chardet\n",
            "    Found existing installation: chardet 5.2.0\n",
            "    Uninstalling chardet-5.2.0:\n",
            "      Successfully uninstalled chardet-5.2.0\n",
            "  Attempting uninstall: idna\n",
            "    Found existing installation: idna 3.10\n",
            "    Uninstalling idna-3.10:\n",
            "      Successfully uninstalled idna-3.10\n",
            "Successfully installed chardet-3.0.4 googletrans-4.0.0rc1 h11-0.9.0 h2-3.2.0 hpack-3.0.0 hstspreload-2024.10.1 httpcore-0.9.1 httpx-0.13.3 hyperframe-5.2.0 idna-2.10 rfc3986-1.5.0\n"
          ]
        }
      ]
    },
    {
      "cell_type": "code",
      "source": [
        "!pip install Translator #cell-12\n",
        "!pip install googletrans"
      ],
      "metadata": {
        "colab": {
          "base_uri": "https://localhost:8080/"
        },
        "id": "4F0yoJmxhf9t",
        "outputId": "3549e084-0007-4249-c112-d7f34cbb27a4",
        "collapsed": true
      },
      "id": "4F0yoJmxhf9t",
      "execution_count": 13,
      "outputs": [
        {
          "output_type": "stream",
          "name": "stdout",
          "text": [
            "Collecting Translator\n",
            "  Downloading translator-0.0.9-py3-none-any.whl.metadata (317 bytes)\n",
            "Requirement already satisfied: beautifulsoup4>=4.0 in /usr/local/lib/python3.10/dist-packages (from Translator) (4.12.3)\n",
            "Requirement already satisfied: soupsieve>1.2 in /usr/local/lib/python3.10/dist-packages (from beautifulsoup4>=4.0->Translator) (2.6)\n",
            "Downloading translator-0.0.9-py3-none-any.whl (5.3 kB)\n",
            "Installing collected packages: Translator\n",
            "Successfully installed Translator-0.0.9\n",
            "Requirement already satisfied: googletrans in /usr/local/lib/python3.10/dist-packages (4.0.0rc1)\n",
            "Requirement already satisfied: httpx==0.13.3 in /usr/local/lib/python3.10/dist-packages (from googletrans) (0.13.3)\n",
            "Requirement already satisfied: certifi in /usr/local/lib/python3.10/dist-packages (from httpx==0.13.3->googletrans) (2024.8.30)\n",
            "Requirement already satisfied: hstspreload in /usr/local/lib/python3.10/dist-packages (from httpx==0.13.3->googletrans) (2024.10.1)\n",
            "Requirement already satisfied: sniffio in /usr/local/lib/python3.10/dist-packages (from httpx==0.13.3->googletrans) (1.3.1)\n",
            "Requirement already satisfied: chardet==3.* in /usr/local/lib/python3.10/dist-packages (from httpx==0.13.3->googletrans) (3.0.4)\n",
            "Requirement already satisfied: idna==2.* in /usr/local/lib/python3.10/dist-packages (from httpx==0.13.3->googletrans) (2.10)\n",
            "Requirement already satisfied: rfc3986<2,>=1.3 in /usr/local/lib/python3.10/dist-packages (from httpx==0.13.3->googletrans) (1.5.0)\n",
            "Requirement already satisfied: httpcore==0.9.* in /usr/local/lib/python3.10/dist-packages (from httpx==0.13.3->googletrans) (0.9.1)\n",
            "Requirement already satisfied: h11<0.10,>=0.8 in /usr/local/lib/python3.10/dist-packages (from httpcore==0.9.*->httpx==0.13.3->googletrans) (0.9.0)\n",
            "Requirement already satisfied: h2==3.* in /usr/local/lib/python3.10/dist-packages (from httpcore==0.9.*->httpx==0.13.3->googletrans) (3.2.0)\n",
            "Requirement already satisfied: hyperframe<6,>=5.2.0 in /usr/local/lib/python3.10/dist-packages (from h2==3.*->httpcore==0.9.*->httpx==0.13.3->googletrans) (5.2.0)\n",
            "Requirement already satisfied: hpack<4,>=3.0 in /usr/local/lib/python3.10/dist-packages (from h2==3.*->httpcore==0.9.*->httpx==0.13.3->googletrans) (3.0.0)\n"
          ]
        }
      ]
    },
    {
      "cell_type": "code",
      "execution_count": 14,
      "id": "6d580219",
      "metadata": {
        "colab": {
          "base_uri": "https://localhost:8080/"
        },
        "id": "6d580219",
        "outputId": "a5b24838-f31d-4a28-ae87-ea507b6881a5"
      },
      "outputs": [
        {
          "output_type": "stream",
          "name": "stdout",
          "text": [
            "English to Hindi (Devanagari): नमस्ते, आप कैसे हैं?\n",
            "Hindi to English: hello how are you?\n"
          ]
        }
      ],
      "source": [
        "from googletrans import Translator      #cell-13\n",
        "\n",
        "translator = Translator()\n",
        "\n",
        "def translate_english_to_hindi(text):\n",
        "    return translator.translate(text, src='en', dest='hi').text\n",
        "\n",
        "def translate_hindi_to_english(text):\n",
        "    return translator.translate(text, src='hi', dest='en').text\n",
        "\n",
        "english_text = \"Hello, how are you?\"\n",
        "hindi_text = \"नमस्ते, आप कैसे हैं?\"\n",
        "\n",
        "# Translate English to Hindi\n",
        "translated_to_hindi = translate_english_to_hindi(english_text)\n",
        "print(\"English to Hindi (Devanagari):\", translated_to_hindi)\n",
        "\n",
        "# Translate Hindi to English\n",
        "translated_to_english = translate_hindi_to_english(hindi_text)\n",
        "print(\"Hindi to English:\", translated_to_english)\n"
      ]
    },
    {
      "cell_type": "code",
      "source": [
        "print('नमस्कार! मैं एक चैटबॉट हूं। आज मैं आपकी कैसे मदद कर सकता हूँ? बाहर निकलने के लिए \"छोड़ें\" टाइप करें।')      #cell-final hindi to hindi\n",
        "while True:\n",
        "    user_input = input('> ')\n",
        "    if user_input.lower() == 'quit':\n",
        "        break\n",
        "    response = chatbot_response(translate_hindi_to_english(user_input))\n",
        "    translated_to_hindi = translate_english_to_hindi(response)\n",
        "    print(translated_to_hindi)"
      ],
      "metadata": {
        "id": "DcpvmmlOQaQ6",
        "colab": {
          "base_uri": "https://localhost:8080/"
        },
        "outputId": "8a6b5128-5a83-4280-a5d9-1933b2e5a175"
      },
      "id": "DcpvmmlOQaQ6",
      "execution_count": 17,
      "outputs": [
        {
          "name": "stdout",
          "output_type": "stream",
          "text": [
            "नमस्कार! मैं एक चैटबॉट हूं। आज मैं आपकी कैसे मदद कर सकता हूँ? बाहर निकलने के लिए \"छोड़ें\" टाइप करें।\n",
            "> तुम्हें किसने बनाया?\n",
            "मैं आदित्य शुक्ला द्वारा बनाया गया था।\n",
            "> छोड़ना\n",
            "आप मुझे कॉलेज सहायक कह सकते हैं।मैं एक चैटबॉट हूं।\n",
            "> quit\n"
          ]
        }
      ]
    },
    {
      "cell_type": "code",
      "execution_count": null,
      "metadata": {
        "id": "XdBQCrybSJIy"
      },
      "outputs": [],
      "source": [
        "print('Hello! I am a chatbot. How can I help you today? Type \"quit\" to exit.')      #cell-final  english to hindi\n",
        "while True:\n",
        "    user_input = input('> ')\n",
        "    if user_input.lower() == 'quit':\n",
        "        break\n",
        "    response = chatbot_response(user_input)\n",
        "    translated_to_hindi = translate_english_to_hindi(response)\n",
        "    print(translated_to_hindi)"
      ],
      "id": "XdBQCrybSJIy"
    },
    {
      "cell_type": "code",
      "execution_count": 16,
      "id": "c6551a7f",
      "metadata": {
        "id": "c6551a7f",
        "colab": {
          "base_uri": "https://localhost:8080/"
        },
        "outputId": "a0b9bc2f-0d4a-4772-c635-7a7e8d27812e"
      },
      "outputs": [
        {
          "name": "stdout",
          "output_type": "stream",
          "text": [
            "Hello! I am a chatbot. How can I help you today? Type \"quit\" to exit.\n",
            "> who created you\n",
            "मैं आदित्य शुक्ला द्वारा बनाया गया था।\n",
            "> what is the college timing\n",
            "कॉलेज सुबह 8 से शाम 5 बजे, सोमवार से शनिवार तक खुला रहता है।\n",
            "> quit\n"
          ]
        }
      ],
      "source": [
        "print('Hello! I am a chatbot. How can I help you today? Type \"quit\" to exit.')      #cell-final  english to hindi\n",
        "while True:\n",
        "    user_input = input('> ')\n",
        "    if user_input.lower() == 'quit':\n",
        "        break\n",
        "    response = chatbot_response(user_input)\n",
        "    translated_to_hindi = translate_english_to_hindi(response)\n",
        "    print(translated_to_hindi)"
      ]
    },
    {
      "cell_type": "code",
      "source": [
        "print('Hello! I am a chatbot. How can I help you today? Type \"quit\" to exit.')      #cell-final  english to english\n",
        "while True:\n",
        "    user_input = input('> ')\n",
        "    if user_input.lower() == 'quit':\n",
        "        break\n",
        "    response = chatbot_response(user_input)\n",
        "    print(response)"
      ],
      "metadata": {
        "id": "VnOYx8hGQ2Ne",
        "colab": {
          "base_uri": "https://localhost:8080/"
        },
        "outputId": "606bad80-1385-4b0a-f1e9-a498eeece8a9"
      },
      "id": "VnOYx8hGQ2Ne",
      "execution_count": 15,
      "outputs": [
        {
          "name": "stdout",
          "output_type": "stream",
          "text": [
            "Hello! I am a chatbot. How can I help you today? Type \"quit\" to exit.\n",
            "> who created you\n",
            "I was created by Aditya Shukla.\n",
            "> what is the collge timing\n",
            "Yes, the college has a library. The library is located [insert location]. The timings are from 9am to 5pm, Monday to Friday.\n",
            "> what courses are offered by your college\n",
            "The college offers courses in Information Technology, Computer Engineering, Mechanical Engineering, Chemical Engineering, and Civil Engineering.\n",
            "> quit\n"
          ]
        }
      ]
    },
    {
      "cell_type": "code",
      "source": [],
      "metadata": {
        "id": "sd-HpybMC1Pj"
      },
      "id": "sd-HpybMC1Pj",
      "execution_count": null,
      "outputs": []
    }
  ],
  "metadata": {
    "kernelspec": {
      "display_name": "Python 3",
      "name": "python3"
    },
    "language_info": {
      "codemirror_mode": {
        "name": "ipython",
        "version": 3
      },
      "file_extension": ".py",
      "mimetype": "text/x-python",
      "name": "python",
      "nbconvert_exporter": "python",
      "pygments_lexer": "ipython3",
      "version": "3.10.9"
    },
    "colab": {
      "provenance": [],
      "gpuType": "T4"
    },
    "accelerator": "GPU"
  },
  "nbformat": 4,
  "nbformat_minor": 5
}